{
 "cells": [
  {
   "cell_type": "markdown",
   "id": "5cc8425a",
   "metadata": {},
   "source": [
    "The challenge is from [here](https://www.aicrowd.com/challenges/ai-blitz-xii/problems/programming-language-classification/notebooks)."
   ]
  },
  {
   "cell_type": "code",
   "execution_count": 26,
   "id": "7b57d0ac",
   "metadata": {},
   "outputs": [
    {
     "name": "stdout",
     "output_type": "stream",
     "text": [
      "Requirement already satisfied: aicrowd-cli in /Users/maxhager/opt/anaconda3/lib/python3.9/site-packages (0.1.15)\n",
      "Requirement already satisfied: toml<1,>=0.10.2 in /Users/maxhager/opt/anaconda3/lib/python3.9/site-packages (from aicrowd-cli) (0.10.2)\n",
      "Requirement already satisfied: click<8,>=7.1.2 in /Users/maxhager/opt/anaconda3/lib/python3.9/site-packages (from aicrowd-cli) (7.1.2)\n",
      "Requirement already satisfied: rich<11,>=10.0.0 in /Users/maxhager/opt/anaconda3/lib/python3.9/site-packages (from aicrowd-cli) (10.16.2)\n",
      "Requirement already satisfied: python-slugify<6,>=5.0.0 in /Users/maxhager/opt/anaconda3/lib/python3.9/site-packages (from aicrowd-cli) (5.0.2)\n",
      "Requirement already satisfied: requests-toolbelt<1,>=0.9.1 in /Users/maxhager/opt/anaconda3/lib/python3.9/site-packages (from aicrowd-cli) (0.9.1)\n",
      "Requirement already satisfied: pyzmq==22.1.0 in /Users/maxhager/opt/anaconda3/lib/python3.9/site-packages (from aicrowd-cli) (22.1.0)\n",
      "Requirement already satisfied: requests<3,>=2.25.1 in /Users/maxhager/opt/anaconda3/lib/python3.9/site-packages (from aicrowd-cli) (2.26.0)\n",
      "Requirement already satisfied: tqdm<5,>=4.56.0 in /Users/maxhager/opt/anaconda3/lib/python3.9/site-packages (from aicrowd-cli) (4.62.3)\n",
      "Requirement already satisfied: GitPython==3.1.18 in /Users/maxhager/opt/anaconda3/lib/python3.9/site-packages (from aicrowd-cli) (3.1.18)\n",
      "Requirement already satisfied: semver<3,>=2.13.0 in /Users/maxhager/opt/anaconda3/lib/python3.9/site-packages (from aicrowd-cli) (2.13.0)\n",
      "Requirement already satisfied: gitdb<5,>=4.0.1 in /Users/maxhager/opt/anaconda3/lib/python3.9/site-packages (from GitPython==3.1.18->aicrowd-cli) (4.0.9)\n",
      "Requirement already satisfied: smmap<6,>=3.0.1 in /Users/maxhager/opt/anaconda3/lib/python3.9/site-packages (from gitdb<5,>=4.0.1->GitPython==3.1.18->aicrowd-cli) (5.0.0)\n",
      "Requirement already satisfied: text-unidecode>=1.3 in /Users/maxhager/opt/anaconda3/lib/python3.9/site-packages (from python-slugify<6,>=5.0.0->aicrowd-cli) (1.3)\n",
      "Requirement already satisfied: charset-normalizer~=2.0.0 in /Users/maxhager/opt/anaconda3/lib/python3.9/site-packages (from requests<3,>=2.25.1->aicrowd-cli) (2.0.4)\n",
      "Requirement already satisfied: idna<4,>=2.5 in /Users/maxhager/opt/anaconda3/lib/python3.9/site-packages (from requests<3,>=2.25.1->aicrowd-cli) (3.2)\n",
      "Requirement already satisfied: urllib3<1.27,>=1.21.1 in /Users/maxhager/opt/anaconda3/lib/python3.9/site-packages (from requests<3,>=2.25.1->aicrowd-cli) (1.26.7)\n",
      "Requirement already satisfied: certifi>=2017.4.17 in /Users/maxhager/opt/anaconda3/lib/python3.9/site-packages (from requests<3,>=2.25.1->aicrowd-cli) (2021.10.8)\n",
      "Requirement already satisfied: colorama<0.5.0,>=0.4.0 in /Users/maxhager/opt/anaconda3/lib/python3.9/site-packages (from rich<11,>=10.0.0->aicrowd-cli) (0.4.4)\n",
      "Requirement already satisfied: commonmark<0.10.0,>=0.9.0 in /Users/maxhager/opt/anaconda3/lib/python3.9/site-packages (from rich<11,>=10.0.0->aicrowd-cli) (0.9.1)\n",
      "Requirement already satisfied: pygments<3.0.0,>=2.6.0 in /Users/maxhager/opt/anaconda3/lib/python3.9/site-packages (from rich<11,>=10.0.0->aicrowd-cli) (2.10.0)\n"
     ]
    }
   ],
   "source": [
    "!pip install aicrowd-cli\n",
    "%load_ext aicrowd.magic"
   ]
  },
  {
   "cell_type": "code",
   "execution_count": 27,
   "id": "c2349822",
   "metadata": {},
   "outputs": [
    {
     "name": "stdout",
     "output_type": "stream",
     "text": [
      "Please login here: \u001b[34m\u001b[1m\u001b[4mhttps://api.aicrowd.com/auth/dBPe8wsLgp4gyL9BY6pn_GLbPjUgInhdwsM3W33AVsI\u001b[0m\n",
      "\u001b[32mAPI Key valid\u001b[0m\n",
      "\u001b[32mGitlab access token valid\u001b[0m\n",
      "\u001b[32mSaved details successfully!\u001b[0m\n"
     ]
    }
   ],
   "source": [
    "%aicrowd login"
   ]
  },
  {
   "cell_type": "code",
   "execution_count": null,
   "id": "3cb2a8fc",
   "metadata": {},
   "outputs": [],
   "source": [
    "!rm -rf data\n",
    "!mkdir data\n",
    "%aicrowd ds dl -c programming-language-classification -o data"
   ]
  },
  {
   "cell_type": "code",
   "execution_count": 1,
   "id": "8ab58558",
   "metadata": {},
   "outputs": [],
   "source": [
    "import pandas as pd\n",
    "import numpy as np\n",
    "import os\n",
    "import matplotlib.pyplot as plt\n",
    "import seaborn as sn\n",
    "\n",
    "from sklearn.model_selection import train_test_split\n",
    "from sklearn.feature_extraction.text import CountVectorizer\n",
    "from sklearn.feature_extraction.text import TfidfTransformer\n",
    "from sklearn.naive_bayes import MultinomialNB\n",
    "from sklearn.pipeline import Pipeline\n",
    "from sklearn.metrics import roc_auc_score,accuracy_score,f1_score\n",
    "\n",
    "from sklearn import set_config\n",
    "set_config(display=\"diagram\")\n",
    "\n",
    "plt.rcParams[\"figure.figsize\"] = (15,6)"
   ]
  },
  {
   "cell_type": "code",
   "execution_count": 2,
   "id": "91073328",
   "metadata": {},
   "outputs": [],
   "source": [
    "#load and read datasets\n",
    "trainData = pd.read_csv(\"data/train.csv\")\n",
    "testData = pd.read_csv(\"data/test.csv\")"
   ]
  },
  {
   "cell_type": "code",
   "execution_count": 3,
   "id": "6665284f",
   "metadata": {},
   "outputs": [
    {
     "data": {
      "text/html": [
       "<div>\n",
       "<style scoped>\n",
       "    .dataframe tbody tr th:only-of-type {\n",
       "        vertical-align: middle;\n",
       "    }\n",
       "\n",
       "    .dataframe tbody tr th {\n",
       "        vertical-align: top;\n",
       "    }\n",
       "\n",
       "    .dataframe thead th {\n",
       "        text-align: right;\n",
       "    }\n",
       "</style>\n",
       "<table border=\"1\" class=\"dataframe\">\n",
       "  <thead>\n",
       "    <tr style=\"text-align: right;\">\n",
       "      <th></th>\n",
       "      <th>id</th>\n",
       "      <th>code</th>\n",
       "      <th>language</th>\n",
       "    </tr>\n",
       "  </thead>\n",
       "  <tbody>\n",
       "    <tr>\n",
       "      <th>0</th>\n",
       "      <td>14026</td>\n",
       "      <td>var result = testObj1 | testObj2;\\...</td>\n",
       "      <td>c-sharp</td>\n",
       "    </tr>\n",
       "    <tr>\n",
       "      <th>1</th>\n",
       "      <td>12201</td>\n",
       "      <td>///     Initializes a new instance of ...</td>\n",
       "      <td>c-sharp</td>\n",
       "    </tr>\n",
       "    <tr>\n",
       "      <th>2</th>\n",
       "      <td>17074</td>\n",
       "      <td>/*\\n\\n     Explanation :- a user gives a Strin...</td>\n",
       "      <td>javascript</td>\n",
       "    </tr>\n",
       "    <tr>\n",
       "      <th>3</th>\n",
       "      <td>21102</td>\n",
       "      <td>int sum = 0;\\n\\n         for (int i = ...</td>\n",
       "      <td>c-plus-plus</td>\n",
       "    </tr>\n",
       "    <tr>\n",
       "      <th>4</th>\n",
       "      <td>53065</td>\n",
       "      <td>if (p-&gt;data &lt; min)\\n\\n         {\\n\\n  ...</td>\n",
       "      <td>c</td>\n",
       "    </tr>\n",
       "  </tbody>\n",
       "</table>\n",
       "</div>"
      ],
      "text/plain": [
       "      id                                               code     language\n",
       "0  14026              var result = testObj1 | testObj2;\\...      c-sharp\n",
       "1  12201          ///     Initializes a new instance of ...      c-sharp\n",
       "2  17074  /*\\n\\n     Explanation :- a user gives a Strin...   javascript\n",
       "3  21102          int sum = 0;\\n\\n         for (int i = ...  c-plus-plus\n",
       "4  53065          if (p->data < min)\\n\\n         {\\n\\n  ...            c"
      ]
     },
     "execution_count": 3,
     "metadata": {},
     "output_type": "execute_result"
    }
   ],
   "source": [
    "#five first rows of trainData\n",
    "trainData.head()"
   ]
  },
  {
   "cell_type": "code",
   "execution_count": 4,
   "id": "21647c49",
   "metadata": {},
   "outputs": [
    {
     "data": {
      "text/html": [
       "<div>\n",
       "<style scoped>\n",
       "    .dataframe tbody tr th:only-of-type {\n",
       "        vertical-align: middle;\n",
       "    }\n",
       "\n",
       "    .dataframe tbody tr th {\n",
       "        vertical-align: top;\n",
       "    }\n",
       "\n",
       "    .dataframe thead th {\n",
       "        text-align: right;\n",
       "    }\n",
       "</style>\n",
       "<table border=\"1\" class=\"dataframe\">\n",
       "  <thead>\n",
       "    <tr style=\"text-align: right;\">\n",
       "      <th></th>\n",
       "      <th>id</th>\n",
       "      <th>code</th>\n",
       "    </tr>\n",
       "  </thead>\n",
       "  <tbody>\n",
       "    <tr>\n",
       "      <th>0</th>\n",
       "      <td>10684</td>\n",
       "      <td>28 = 22 + 23 + 24\\n\\n 33 = 32 + 23 + 24\\n\\n 49...</td>\n",
       "    </tr>\n",
       "    <tr>\n",
       "      <th>1</th>\n",
       "      <td>17536</td>\n",
       "      <td>this.path = path;\\n\\n       this.estimat...</td>\n",
       "    </tr>\n",
       "    <tr>\n",
       "      <th>2</th>\n",
       "      <td>26383</td>\n",
       "      <td>{\\n\\n                     ...</td>\n",
       "    </tr>\n",
       "    <tr>\n",
       "      <th>3</th>\n",
       "      <td>29090</td>\n",
       "      <td>/**\\n\\n  * Class for converting from \"any\" bas...</td>\n",
       "    </tr>\n",
       "    <tr>\n",
       "      <th>4</th>\n",
       "      <td>10482</td>\n",
       "      <td>{ cout&lt;&lt;\"Destructing base \\n\"; }      ...</td>\n",
       "    </tr>\n",
       "  </tbody>\n",
       "</table>\n",
       "</div>"
      ],
      "text/plain": [
       "      id                                               code\n",
       "0  10684  28 = 22 + 23 + 24\\n\\n 33 = 32 + 23 + 24\\n\\n 49...\n",
       "1  17536        this.path = path;\\n\\n       this.estimat...\n",
       "2  26383                      {\\n\\n                     ...\n",
       "3  29090  /**\\n\\n  * Class for converting from \"any\" bas...\n",
       "4  10482          { cout<<\"Destructing base \\n\"; }      ..."
      ]
     },
     "execution_count": 4,
     "metadata": {},
     "output_type": "execute_result"
    }
   ],
   "source": [
    "#five first rows of testData\n",
    "testData.head()"
   ]
  },
  {
   "cell_type": "code",
   "execution_count": 5,
   "id": "cbf66d38",
   "metadata": {},
   "outputs": [
    {
     "name": "stderr",
     "output_type": "stream",
     "text": [
      "/Users/maxhager/opt/anaconda3/lib/python3.9/site-packages/seaborn/_decorators.py:36: FutureWarning: Pass the following variable as a keyword arg: x. From version 0.12, the only valid positional argument will be `data`, and passing other arguments without an explicit keyword will result in an error or misinterpretation.\n",
      "  warnings.warn(\n"
     ]
    },
    {
     "data": {
      "text/plain": [
       "<AxesSubplot:xlabel='language', ylabel='count'>"
      ]
     },
     "execution_count": 5,
     "metadata": {},
     "output_type": "execute_result"
    },
    {
     "data": {
      "image/png": "[encoded data removed]",
      "text/plain": [
       "<Figure size 1080x432 with 1 Axes>"
      ]
     },
     "metadata": {
      "needs_background": "light"
     },
     "output_type": "display_data"
    }
   ],
   "source": [
    "#distribution of programming languages in a plot\n",
    "sn.countplot(trainData[\"language\"])"
   ]
  },
  {
   "cell_type": "code",
   "execution_count": 6,
   "id": "11ed2def",
   "metadata": {},
   "outputs": [],
   "source": [
    "#import of label encoder. \n",
    "from sklearn.preprocessing import LabelEncoder\n",
    "\n",
    "LE = LabelEncoder().fit(trainData.language)\n",
    "trainData[\"target\"] = LE.transform(trainData.language)"
   ]
  },
  {
   "cell_type": "code",
   "execution_count": 7,
   "id": "48a8f50e",
   "metadata": {},
   "outputs": [
    {
     "data": {
      "text/html": [
       "<div>\n",
       "<style scoped>\n",
       "    .dataframe tbody tr th:only-of-type {\n",
       "        vertical-align: middle;\n",
       "    }\n",
       "\n",
       "    .dataframe tbody tr th {\n",
       "        vertical-align: top;\n",
       "    }\n",
       "\n",
       "    .dataframe thead th {\n",
       "        text-align: right;\n",
       "    }\n",
       "</style>\n",
       "<table border=\"1\" class=\"dataframe\">\n",
       "  <thead>\n",
       "    <tr style=\"text-align: right;\">\n",
       "      <th></th>\n",
       "      <th>id</th>\n",
       "      <th>code</th>\n",
       "      <th>language</th>\n",
       "      <th>target</th>\n",
       "    </tr>\n",
       "  </thead>\n",
       "  <tbody>\n",
       "    <tr>\n",
       "      <th>0</th>\n",
       "      <td>14026</td>\n",
       "      <td>var result = testObj1 | testObj2;\\...</td>\n",
       "      <td>c-sharp</td>\n",
       "      <td>3</td>\n",
       "    </tr>\n",
       "    <tr>\n",
       "      <th>1</th>\n",
       "      <td>12201</td>\n",
       "      <td>///     Initializes a new instance of ...</td>\n",
       "      <td>c-sharp</td>\n",
       "      <td>3</td>\n",
       "    </tr>\n",
       "    <tr>\n",
       "      <th>2</th>\n",
       "      <td>17074</td>\n",
       "      <td>/*\\n\\n     Explanation :- a user gives a Strin...</td>\n",
       "      <td>javascript</td>\n",
       "      <td>8</td>\n",
       "    </tr>\n",
       "    <tr>\n",
       "      <th>3</th>\n",
       "      <td>21102</td>\n",
       "      <td>int sum = 0;\\n\\n         for (int i = ...</td>\n",
       "      <td>c-plus-plus</td>\n",
       "      <td>2</td>\n",
       "    </tr>\n",
       "    <tr>\n",
       "      <th>4</th>\n",
       "      <td>53065</td>\n",
       "      <td>if (p-&gt;data &lt; min)\\n\\n         {\\n\\n  ...</td>\n",
       "      <td>c</td>\n",
       "      <td>1</td>\n",
       "    </tr>\n",
       "  </tbody>\n",
       "</table>\n",
       "</div>"
      ],
      "text/plain": [
       "      id                                               code     language  \\\n",
       "0  14026              var result = testObj1 | testObj2;\\...      c-sharp   \n",
       "1  12201          ///     Initializes a new instance of ...      c-sharp   \n",
       "2  17074  /*\\n\\n     Explanation :- a user gives a Strin...   javascript   \n",
       "3  21102          int sum = 0;\\n\\n         for (int i = ...  c-plus-plus   \n",
       "4  53065          if (p->data < min)\\n\\n         {\\n\\n  ...            c   \n",
       "\n",
       "   target  \n",
       "0       3  \n",
       "1       3  \n",
       "2       8  \n",
       "3       2  \n",
       "4       1  "
      ]
     },
     "execution_count": 7,
     "metadata": {},
     "output_type": "execute_result"
    }
   ],
   "source": [
    "trainData.head()"
   ]
  },
  {
   "cell_type": "code",
   "execution_count": 11,
   "id": "9e154443",
   "metadata": {},
   "outputs": [],
   "source": [
    "XTrain, XComb, YTrain, YComb = train_test_split(trainData[\"code\"],trainData[\"target\"],test_size=0.3,random_state=0 , shuffle = False) \n",
    "XValidation,XTest,YValidation,YTest = train_test_split(XComb,YComb,test_size=0.5,random_state=0, shuffle = False)\n",
    "\n"
   ]
  },
  {
   "cell_type": "code",
   "execution_count": 13,
   "id": "64eb2346",
   "metadata": {},
   "outputs": [
    {
     "data": {
      "text/plain": [
       "((31939,), (6844,), (6845,), (31939,), (6844,), (6845,))"
      ]
     },
     "execution_count": 13,
     "metadata": {},
     "output_type": "execute_result"
    }
   ],
   "source": [
    "XTrain.shape,XValidation.shape,XTest.shape,YTrain.shape,YValidation.shape,YTest.shape"
   ]
  },
  {
   "cell_type": "code",
   "execution_count": 14,
   "id": "86423ae2",
   "metadata": {},
   "outputs": [],
   "source": [
    "classifier = Pipeline([('vect', CountVectorizer()), ('tfidf', TfidfTransformer()), ('clf', MultinomialNB())])\n",
    "classifier = classifier.fit(XTrain, YTrain)"
   ]
  },
  {
   "cell_type": "code",
   "execution_count": 15,
   "id": "85ed12f5",
   "metadata": {},
   "outputs": [
    {
     "data": {
      "text/html": [
       "<style>#sk-ec63b847-ca40-44fc-ae51-aa2edc05af5b {color: black;background-color: white;}#sk-ec63b847-ca40-44fc-ae51-aa2edc05af5b pre{padding: 0;}#sk-ec63b847-ca40-44fc-ae51-aa2edc05af5b div.sk-toggleable {background-color: white;}#sk-ec63b847-ca40-44fc-ae51-aa2edc05af5b label.sk-toggleable__label {cursor: pointer;display: block;width: 100%;margin-bottom: 0;padding: 0.3em;box-sizing: border-box;text-align: center;}#sk-ec63b847-ca40-44fc-ae51-aa2edc05af5b label.sk-toggleable__label-arrow:before {content: \"▸\";float: left;margin-right: 0.25em;color: #696969;}#sk-ec63b847-ca40-44fc-ae51-aa2edc05af5b label.sk-toggleable__label-arrow:hover:before {color: black;}#sk-ec63b847-ca40-44fc-ae51-aa2edc05af5b div.sk-estimator:hover label.sk-toggleable__label-arrow:before {color: black;}#sk-ec63b847-ca40-44fc-ae51-aa2edc05af5b div.sk-toggleable__content {max-height: 0;max-width: 0;overflow: hidden;text-align: left;background-color: #f0f8ff;}#sk-ec63b847-ca40-44fc-ae51-aa2edc05af5b div.sk-toggleable__content pre {margin: 0.2em;color: black;border-radius: 0.25em;background-color: #f0f8ff;}#sk-ec63b847-ca40-44fc-ae51-aa2edc05af5b input.sk-toggleable__control:checked~div.sk-toggleable__content {max-height: 200px;max-width: 100%;overflow: auto;}#sk-ec63b847-ca40-44fc-ae51-aa2edc05af5b input.sk-toggleable__control:checked~label.sk-toggleable__label-arrow:before {content: \"▾\";}#sk-ec63b847-ca40-44fc-ae51-aa2edc05af5b div.sk-estimator input.sk-toggleable__control:checked~label.sk-toggleable__label {background-color: #d4ebff;}#sk-ec63b847-ca40-44fc-ae51-aa2edc05af5b div.sk-label input.sk-toggleable__control:checked~label.sk-toggleable__label {background-color: #d4ebff;}#sk-ec63b847-ca40-44fc-ae51-aa2edc05af5b input.sk-hidden--visually {border: 0;clip: rect(1px 1px 1px 1px);clip: rect(1px, 1px, 1px, 1px);height: 1px;margin: -1px;overflow: hidden;padding: 0;position: absolute;width: 1px;}#sk-ec63b847-ca40-44fc-ae51-aa2edc05af5b div.sk-estimator {font-family: monospace;background-color: #f0f8ff;border: 1px dotted black;border-radius: 0.25em;box-sizing: border-box;margin-bottom: 0.5em;}#sk-ec63b847-ca40-44fc-ae51-aa2edc05af5b div.sk-estimator:hover {background-color: #d4ebff;}#sk-ec63b847-ca40-44fc-ae51-aa2edc05af5b div.sk-parallel-item::after {content: \"\";width: 100%;border-bottom: 1px solid gray;flex-grow: 1;}#sk-ec63b847-ca40-44fc-ae51-aa2edc05af5b div.sk-label:hover label.sk-toggleable__label {background-color: #d4ebff;}#sk-ec63b847-ca40-44fc-ae51-aa2edc05af5b div.sk-serial::before {content: \"\";position: absolute;border-left: 1px solid gray;box-sizing: border-box;top: 2em;bottom: 0;left: 50%;}#sk-ec63b847-ca40-44fc-ae51-aa2edc05af5b div.sk-serial {display: flex;flex-direction: column;align-items: center;background-color: white;padding-right: 0.2em;padding-left: 0.2em;}#sk-ec63b847-ca40-44fc-ae51-aa2edc05af5b div.sk-item {z-index: 1;}#sk-ec63b847-ca40-44fc-ae51-aa2edc05af5b div.sk-parallel {display: flex;align-items: stretch;justify-content: center;background-color: white;}#sk-ec63b847-ca40-44fc-ae51-aa2edc05af5b div.sk-parallel::before {content: \"\";position: absolute;border-left: 1px solid gray;box-sizing: border-box;top: 2em;bottom: 0;left: 50%;}#sk-ec63b847-ca40-44fc-ae51-aa2edc05af5b div.sk-parallel-item {display: flex;flex-direction: column;position: relative;background-color: white;}#sk-ec63b847-ca40-44fc-ae51-aa2edc05af5b div.sk-parallel-item:first-child::after {align-self: flex-end;width: 50%;}#sk-ec63b847-ca40-44fc-ae51-aa2edc05af5b div.sk-parallel-item:last-child::after {align-self: flex-start;width: 50%;}#sk-ec63b847-ca40-44fc-ae51-aa2edc05af5b div.sk-parallel-item:only-child::after {width: 0;}#sk-ec63b847-ca40-44fc-ae51-aa2edc05af5b div.sk-dashed-wrapped {border: 1px dashed gray;margin: 0 0.4em 0.5em 0.4em;box-sizing: border-box;padding-bottom: 0.4em;background-color: white;position: relative;}#sk-ec63b847-ca40-44fc-ae51-aa2edc05af5b div.sk-label label {font-family: monospace;font-weight: bold;background-color: white;display: inline-block;line-height: 1.2em;}#sk-ec63b847-ca40-44fc-ae51-aa2edc05af5b div.sk-label-container {position: relative;z-index: 2;text-align: center;}#sk-ec63b847-ca40-44fc-ae51-aa2edc05af5b div.sk-container {/* jupyter's `normalize.less` sets `[hidden] { display: none; }` but bootstrap.min.css set `[hidden] { display: none !important; }` so we also need the `!important` here to be able to override the default hidden behavior on the sphinx rendered scikit-learn.org. See: https://github.com/scikit-learn/scikit-learn/issues/21755 */display: inline-block !important;position: relative;}#sk-ec63b847-ca40-44fc-ae51-aa2edc05af5b div.sk-text-repr-fallback {display: none;}</style><div id=\"sk-ec63b847-ca40-44fc-ae51-aa2edc05af5b\" class=\"sk-top-container\"><div class=\"sk-text-repr-fallback\"><pre>Pipeline(steps=[(&#x27;vect&#x27;, CountVectorizer()), (&#x27;tfidf&#x27;, TfidfTransformer()),\n",
       "                (&#x27;clf&#x27;, MultinomialNB())])</pre><b>Please rerun this cell to show the HTML repr or trust the notebook.</b></div><div class=\"sk-container\" hidden><div class=\"sk-item sk-dashed-wrapped\"><div class=\"sk-label-container\"><div class=\"sk-label sk-toggleable\"><input class=\"sk-toggleable__control sk-hidden--visually\" id=\"56545c39-e27a-43b1-8116-ec9024c9e4a0\" type=\"checkbox\" ><label for=\"56545c39-e27a-43b1-8116-ec9024c9e4a0\" class=\"sk-toggleable__label sk-toggleable__label-arrow\">Pipeline</label><div class=\"sk-toggleable__content\"><pre>Pipeline(steps=[(&#x27;vect&#x27;, CountVectorizer()), (&#x27;tfidf&#x27;, TfidfTransformer()),\n",
       "                (&#x27;clf&#x27;, MultinomialNB())])</pre></div></div></div><div class=\"sk-serial\"><div class=\"sk-item\"><div class=\"sk-estimator sk-toggleable\"><input class=\"sk-toggleable__control sk-hidden--visually\" id=\"b5360ff3-2dae-4cc2-a871-ea1be57b26a4\" type=\"checkbox\" ><label for=\"b5360ff3-2dae-4cc2-a871-ea1be57b26a4\" class=\"sk-toggleable__label sk-toggleable__label-arrow\">CountVectorizer</label><div class=\"sk-toggleable__content\"><pre>CountVectorizer()</pre></div></div></div><div class=\"sk-item\"><div class=\"sk-estimator sk-toggleable\"><input class=\"sk-toggleable__control sk-hidden--visually\" id=\"0987fe64-9e3e-4c80-b5f8-aff414bf8397\" type=\"checkbox\" ><label for=\"0987fe64-9e3e-4c80-b5f8-aff414bf8397\" class=\"sk-toggleable__label sk-toggleable__label-arrow\">TfidfTransformer</label><div class=\"sk-toggleable__content\"><pre>TfidfTransformer()</pre></div></div></div><div class=\"sk-item\"><div class=\"sk-estimator sk-toggleable\"><input class=\"sk-toggleable__control sk-hidden--visually\" id=\"9fe5fe6d-230e-4569-907f-d64d0f4184b7\" type=\"checkbox\" ><label for=\"9fe5fe6d-230e-4569-907f-d64d0f4184b7\" class=\"sk-toggleable__label sk-toggleable__label-arrow\">MultinomialNB</label><div class=\"sk-toggleable__content\"><pre>MultinomialNB()</pre></div></div></div></div></div></div></div>"
      ],
      "text/plain": [
       "Pipeline(steps=[('vect', CountVectorizer()), ('tfidf', TfidfTransformer()),\n",
       "                ('clf', MultinomialNB())])"
      ]
     },
     "execution_count": 15,
     "metadata": {},
     "output_type": "execute_result"
    }
   ],
   "source": [
    "classifier"
   ]
  },
  {
   "cell_type": "code",
   "execution_count": 16,
   "id": "53c2970d",
   "metadata": {},
   "outputs": [
    {
     "name": "stdout",
     "output_type": "stream",
     "text": [
      "F1: 0.3301637817357806\n",
      "Accuracy: 65.31268264172998\n"
     ]
    }
   ],
   "source": [
    "print(\"F1:\" ,f1_score(YValidation,classifier.predict(XValidation),average='macro'))\n",
    "print(\"Accuracy:\" ,accuracy_score(YValidation,classifier.predict(XValidation))*100)"
   ]
  },
  {
   "cell_type": "code",
   "execution_count": 18,
   "id": "4081b519",
   "metadata": {},
   "outputs": [
    {
     "data": {
      "text/plain": [
       "(9277, 2)"
      ]
     },
     "execution_count": 18,
     "metadata": {},
     "output_type": "execute_result"
    }
   ],
   "source": [
    "testData.shape"
   ]
  },
  {
   "cell_type": "code",
   "execution_count": 19,
   "id": "7722dd45",
   "metadata": {},
   "outputs": [],
   "source": [
    "testData[\"target\"] = classifier.predict(testData[\"code\"])"
   ]
  },
  {
   "cell_type": "code",
   "execution_count": 20,
   "id": "5dc2d9e5",
   "metadata": {},
   "outputs": [
    {
     "data": {
      "text/html": [
       "<div>\n",
       "<style scoped>\n",
       "    .dataframe tbody tr th:only-of-type {\n",
       "        vertical-align: middle;\n",
       "    }\n",
       "\n",
       "    .dataframe tbody tr th {\n",
       "        vertical-align: top;\n",
       "    }\n",
       "\n",
       "    .dataframe thead th {\n",
       "        text-align: right;\n",
       "    }\n",
       "</style>\n",
       "<table border=\"1\" class=\"dataframe\">\n",
       "  <thead>\n",
       "    <tr style=\"text-align: right;\">\n",
       "      <th></th>\n",
       "      <th>id</th>\n",
       "      <th>code</th>\n",
       "      <th>target</th>\n",
       "    </tr>\n",
       "  </thead>\n",
       "  <tbody>\n",
       "    <tr>\n",
       "      <th>0</th>\n",
       "      <td>10684</td>\n",
       "      <td>28 = 22 + 23 + 24\\n\\n 33 = 32 + 23 + 24\\n\\n 49...</td>\n",
       "      <td>11</td>\n",
       "    </tr>\n",
       "    <tr>\n",
       "      <th>1</th>\n",
       "      <td>17536</td>\n",
       "      <td>this.path = path;\\n\\n       this.estimat...</td>\n",
       "      <td>11</td>\n",
       "    </tr>\n",
       "    <tr>\n",
       "      <th>2</th>\n",
       "      <td>26383</td>\n",
       "      <td>{\\n\\n                     ...</td>\n",
       "      <td>1</td>\n",
       "    </tr>\n",
       "    <tr>\n",
       "      <th>3</th>\n",
       "      <td>29090</td>\n",
       "      <td>/**\\n\\n  * Class for converting from \"any\" bas...</td>\n",
       "      <td>11</td>\n",
       "    </tr>\n",
       "    <tr>\n",
       "      <th>4</th>\n",
       "      <td>10482</td>\n",
       "      <td>{ cout&lt;&lt;\"Destructing base \\n\"; }      ...</td>\n",
       "      <td>2</td>\n",
       "    </tr>\n",
       "  </tbody>\n",
       "</table>\n",
       "</div>"
      ],
      "text/plain": [
       "      id                                               code  target\n",
       "0  10684  28 = 22 + 23 + 24\\n\\n 33 = 32 + 23 + 24\\n\\n 49...      11\n",
       "1  17536        this.path = path;\\n\\n       this.estimat...      11\n",
       "2  26383                      {\\n\\n                     ...       1\n",
       "3  29090  /**\\n\\n  * Class for converting from \"any\" bas...      11\n",
       "4  10482          { cout<<\"Destructing base \\n\"; }      ...       2"
      ]
     },
     "execution_count": 20,
     "metadata": {},
     "output_type": "execute_result"
    }
   ],
   "source": [
    "testData.head()"
   ]
  },
  {
   "cell_type": "code",
   "execution_count": 22,
   "id": "58246bf5",
   "metadata": {},
   "outputs": [
    {
     "data": {
      "text/html": [
       "<div>\n",
       "<style scoped>\n",
       "    .dataframe tbody tr th:only-of-type {\n",
       "        vertical-align: middle;\n",
       "    }\n",
       "\n",
       "    .dataframe tbody tr th {\n",
       "        vertical-align: top;\n",
       "    }\n",
       "\n",
       "    .dataframe thead th {\n",
       "        text-align: right;\n",
       "    }\n",
       "</style>\n",
       "<table border=\"1\" class=\"dataframe\">\n",
       "  <thead>\n",
       "    <tr style=\"text-align: right;\">\n",
       "      <th></th>\n",
       "      <th>id</th>\n",
       "      <th>code</th>\n",
       "      <th>target</th>\n",
       "    </tr>\n",
       "  </thead>\n",
       "  <tbody>\n",
       "    <tr>\n",
       "      <th>1699</th>\n",
       "      <td>14174</td>\n",
       "      <td>@testset \"Strings\" begin\\n\\n     @testset \"Str...</td>\n",
       "      <td>2</td>\n",
       "    </tr>\n",
       "    <tr>\n",
       "      <th>6817</th>\n",
       "      <td>31094</td>\n",
       "      <td>* @param   pos     a position into the list f...</td>\n",
       "      <td>11</td>\n",
       "    </tr>\n",
       "    <tr>\n",
       "      <th>8120</th>\n",
       "      <td>24626</td>\n",
       "      <td>count = 0\\n\\n   nums.each_with_index do |num...</td>\n",
       "      <td>11</td>\n",
       "    </tr>\n",
       "    <tr>\n",
       "      <th>1882</th>\n",
       "      <td>27690</td>\n",
       "      <td>minIndex = this.heap[2 * k] &lt; this.hea...</td>\n",
       "      <td>11</td>\n",
       "    </tr>\n",
       "    <tr>\n",
       "      <th>1348</th>\n",
       "      <td>25054</td>\n",
       "      <td>\"\"\"\\n\\n     count_nucleotides(s::AbstractStrin...</td>\n",
       "      <td>11</td>\n",
       "    </tr>\n",
       "  </tbody>\n",
       "</table>\n",
       "</div>"
      ],
      "text/plain": [
       "         id                                               code  target\n",
       "1699  14174  @testset \"Strings\" begin\\n\\n     @testset \"Str...       2\n",
       "6817  31094   * @param   pos     a position into the list f...      11\n",
       "8120  24626    count = 0\\n\\n   nums.each_with_index do |num...      11\n",
       "1882  27690          minIndex = this.heap[2 * k] < this.hea...      11\n",
       "1348  25054  \"\"\"\\n\\n     count_nucleotides(s::AbstractStrin...      11"
      ]
     },
     "execution_count": 22,
     "metadata": {},
     "output_type": "execute_result"
    }
   ],
   "source": [
    "testData = testData.sample(frac=1)\n",
    "testData.head()"
   ]
  },
  {
   "cell_type": "code",
   "execution_count": 38,
   "id": "09e48c8e",
   "metadata": {},
   "outputs": [],
   "source": [
    "!rm -rf assets\n",
    "!mkdir assets\n",
    "testData.to_csv(os.path.join(\"assets\",\"submission.csv\"))"
   ]
  },
  {
   "cell_type": "code",
   "execution_count": 39,
   "id": "1aaa3a7f",
   "metadata": {},
   "outputs": [
    {
     "name": "stderr",
     "output_type": "stream",
     "text": [
      "\u001b[31mNotebook Not Found Error: Could not locate the absolute path to the jupyter notebook\u001b[0m\n"
     ]
    },
    {
     "name": "stdout",
     "output_type": "stream",
     "text": [
      "WARNING: Got more than 1 jupyter server, selecting the latest session\n",
      "WARNING: Got more than 1 jupyter server, selecting the latest session\n"
     ]
    }
   ],
   "source": [
    "%aicrowd notebook submit -c programming-language-classification -a assets --no-verify"
   ]
  },
  {
   "cell_type": "code",
   "execution_count": null,
   "id": "0e95aa2e",
   "metadata": {},
   "outputs": [],
   "source": []
  }
 ],
 "metadata": {
  "kernelspec": {
   "display_name": "Python 3 (ipykernel)",
   "language": "python",
   "name": "python3"
  },
  "language_info": {
   "codemirror_mode": {
    "name": "ipython",
    "version": 3
   },
   "file_extension": ".py",
   "mimetype": "text/x-python",
   "name": "python",
   "nbconvert_exporter": "python",
   "pygments_lexer": "ipython3",
   "version": "3.9.7"
  }
 },
 "nbformat": 4,
 "nbformat_minor": 5
}
