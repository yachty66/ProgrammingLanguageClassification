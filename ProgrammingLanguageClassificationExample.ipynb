{
 "cells": [
  {
   "cell_type": "markdown",
   "id": "5cc8425a",
   "metadata": {},
   "source": [
    "The challenge is from [here](https://www.aicrowd.com/challenges/ai-blitz-xii/problems/programming-language-classification/notebooks)."
   ]
  },
  {
   "cell_type": "code",
   "execution_count": null,
   "id": "7b57d0ac",
   "metadata": {},
   "outputs": [],
   "source": [
    "!pip install aicrowd-cli\n",
    "%load_ext aicrowd.magic"
   ]
  },
  {
   "cell_type": "code",
   "execution_count": null,
   "id": "c2349822",
   "metadata": {},
   "outputs": [],
   "source": [
    "%aicrowd login"
   ]
  },
  {
   "cell_type": "code",
   "execution_count": null,
   "id": "3cb2a8fc",
   "metadata": {},
   "outputs": [],
   "source": [
    "!rm -rf data\n",
    "!mkdir data\n",
    "%aicrowd ds dl -c programming-language-classification -o data"
   ]
  },
  {
   "cell_type": "code",
   "execution_count": null,
   "id": "8ab58558",
   "metadata": {},
   "outputs": [],
   "source": [
    "import pandas as pd\n",
    "import numpy as np\n",
    "import os\n",
    "import matplotlib.pyplot as plt\n",
    "import seaborn as sn\n",
    "\n",
    "from sklearn.model_selection import train_test_split\n",
    "from sklearn.feature_extraction.text import CountVectorizer\n",
    "from sklearn.feature_extraction.text import TfidfTransformer\n",
    "from sklearn.naive_bayes import MultinomialNB\n",
    "from sklearn.pipeline import Pipeline\n",
    "from sklearn.metrics import roc_auc_score,accuracy_score,f1_score\n",
    "\n",
    "from sklearn import set_config\n",
    "set_config(display=\"diagram\")\n",
    "\n",
    "plt.rcParams[\"figure.figsize\"] = (15,6)"
   ]
  },
  {
   "cell_type": "code",
   "execution_count": null,
   "id": "91073328",
   "metadata": {},
   "outputs": [],
   "source": [
    "#load and read datasets\n",
    "trainData = pd.read_csv(\"data/train.csv\")\n",
    "testData = pd.read_csv(\"data/test.csv\")"
   ]
  },
  {
   "cell_type": "code",
   "execution_count": null,
   "id": "6665284f",
   "metadata": {},
   "outputs": [],
   "source": [
    "#five first rows of trainData\n",
    "trainData.head()"
   ]
  },
  {
   "cell_type": "code",
   "execution_count": null,
   "id": "21647c49",
   "metadata": {},
   "outputs": [],
   "source": [
    "#five first rows of testData\n",
    "testData.head()"
   ]
  },
  {
   "cell_type": "code",
   "execution_count": null,
   "id": "cbf66d38",
   "metadata": {},
   "outputs": [],
   "source": [
    "#distribution of programming languages in a plot\n",
    "sn.countplot(trainData[\"language\"])"
   ]
  },
  {
   "cell_type": "code",
   "execution_count": null,
   "id": "11ed2def",
   "metadata": {},
   "outputs": [],
   "source": [
    "#import of label encoder. \n",
    "from sklearn.preprocessing import LabelEncoder\n",
    "#encodes targets with value between o and nClasses-1 (labelling of targets)\n",
    "LE = LabelEncoder().fit(trainData.language)\n",
    "trainData[\"target\"] = LE.transform(trainData.language)"
   ]
  },
  {
   "cell_type": "code",
   "execution_count": null,
   "id": "48a8f50e",
   "metadata": {},
   "outputs": [],
   "source": [
    "trainData.head()"
   ]
  },
  {
   "cell_type": "code",
   "execution_count": null,
   "id": "9e154443",
   "metadata": {},
   "outputs": [],
   "source": [
    "#splits train data in training, validation, test set\n",
    "XTrain, XComb, YTrain, YComb = train_test_split(trainData[\"code\"],trainData[\"target\"],test_size=0.3,random_state=0 , shuffle = False) \n",
    "print(len(XTrain))\n",
    "XValidation,XTest,YValidation,YTest = train_test_split(XComb,YComb,test_size=0.5,random_state=0, shuffle = False)\n"
   ]
  },
  {
   "cell_type": "code",
   "execution_count": null,
   "id": "64eb2346",
   "metadata": {},
   "outputs": [],
   "source": [
    "XTrain.shape,XValidation.shape,XTest.shape,YTrain.shape,YValidation.shape,YTest.shape"
   ]
  },
  {
   "cell_type": "code",
   "execution_count": null,
   "id": "86423ae2",
   "metadata": {},
   "outputs": [],
   "source": [
    "#CountVectorizers checks if a word appears in a array if yes the word gets the token 1 assigned if not the word gets the token 0 asssigned\n",
    "#TfidfTransformer() transforms tokens from CountVectorizer() to term frequence represantation\n",
    "#MultinomialNB() implements naive bayes algorithm for multinomally data\n",
    "classifier = Pipeline([('vect', CountVectorizer()), ('tfidf', TfidfTransformer()), ('clf', MultinomialNB())])\n",
    "classifier = classifier.fit(XTrain, YTrain)"
   ]
  },
  {
   "cell_type": "code",
   "execution_count": null,
   "id": "85ed12f5",
   "metadata": {},
   "outputs": [],
   "source": [
    "#architecture of the pipeline from teh classifier \n",
    "classifier"
   ]
  },
  {
   "cell_type": "code",
   "execution_count": null,
   "id": "53c2970d",
   "metadata": {},
   "outputs": [],
   "source": [
    "#F1 is used for grading intern of AIcrowd\n",
    "#accuracy number of correct predictions/Total number of predictions (here for validation)\n",
    "print(\"F1:\" ,f1_score(YValidation,classifier.predict(XValidation),average='macro'))\n",
    "print(\"Accuracy:\" ,accuracy_score(YValidation,classifier.predict(XValidation))*100)"
   ]
  },
  {
   "cell_type": "code",
   "execution_count": null,
   "id": "e82fe27e",
   "metadata": {},
   "outputs": [],
   "source": [
    "#F1 is used for grading intern of AIcrowd\n",
    "#accuracy number of correct predictions/Total number of predictions (here for test)\n",
    "print(\"F1:\" ,f1_score(YTest,classifier.predict(XTest),average='macro'))\n",
    "print(\"Accuracy:\" ,accuracy_score(YTest,classifier.predict(XTest))*100)"
   ]
  },
  {
   "cell_type": "code",
   "execution_count": null,
   "id": "4081b519",
   "metadata": {},
   "outputs": [],
   "source": [
    "testData.shape"
   ]
  },
  {
   "cell_type": "code",
   "execution_count": null,
   "id": "7722dd45",
   "metadata": {},
   "outputs": [],
   "source": [
    "#uses trained classifier to predict targets of our code\n",
    "testData[\"target\"] = classifier.predict(testData[\"code\"])"
   ]
  },
  {
   "cell_type": "code",
   "execution_count": null,
   "id": "5dc2d9e5",
   "metadata": {},
   "outputs": [],
   "source": [
    "testData.head()"
   ]
  },
  {
   "cell_type": "code",
   "execution_count": null,
   "id": "a010f562",
   "metadata": {},
   "outputs": [],
   "source": [
    "#transforms the numbers which were predicted to the original name of the programming language\n",
    "#this end result will be used for the submission\n",
    "testData[\"prediction\"] = LE.inverse_transform(testData.target)"
   ]
  },
  {
   "cell_type": "code",
   "execution_count": null,
   "id": "58246bf5",
   "metadata": {},
   "outputs": [],
   "source": [
    "testData = testData.sample(frac=1)\n",
    "testData.head()"
   ]
  },
  {
   "cell_type": "code",
   "execution_count": null,
   "id": "09e48c8e",
   "metadata": {},
   "outputs": [],
   "source": [
    "!rm -rf assets\n",
    "!mkdir assets\n",
    "testData.to_csv(os.path.join(\"assets\",\"submission.csv\"))"
   ]
  },
  {
   "cell_type": "code",
   "execution_count": null,
   "id": "1aaa3a7f",
   "metadata": {},
   "outputs": [],
   "source": [
    "%aicrowd notebook submit -c programming-language-classification -a assets --no-verify"
   ]
  }
 ],
 "metadata": {
  "kernelspec": {
   "display_name": "Python 3 (ipykernel)",
   "language": "python",
   "name": "python3"
  },
  "language_info": {
   "codemirror_mode": {
    "name": "ipython",
    "version": 3
   },
   "file_extension": ".py",
   "mimetype": "text/x-python",
   "name": "python",
   "nbconvert_exporter": "python",
   "pygments_lexer": "ipython3",
   "version": "3.9.7"
  }
 },
 "nbformat": 4,
 "nbformat_minor": 5
}
